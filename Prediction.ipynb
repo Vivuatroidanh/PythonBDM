{
 "cells": [
  {
   "cell_type": "code",
   "execution_count": null,
   "metadata": {
    "vscode": {
     "languageId": "plaintext"
    }
   },
   "outputs": [],
   "source": [
    "# The libraries used in processing the dataset\n",
    "import numpy as np\n",
    "import pandas as pd\n",
    "import matplotlib.pyplot as plt\n",
    "import seaborn as sns\n",
    "import imblearn as ib\n",
    "import warnings\n",
    "warnings.filterwarnings(\"ignore\", category=FutureWarning)"
   ]
  },
  {
   "cell_type": "code",
   "execution_count": null,
   "metadata": {
    "vscode": {
     "languageId": "plaintext"
    }
   },
   "outputs": [],
   "source": [
    "# The dataframe is read from the csv file - healthcare-dataset-stroke-data.csv - taken from kaggle\n",
    "df = pd.read_csv(\"healthcare-dataset-stroke-data.csv\")"
   ]
  },
  {
   "cell_type": "code",
   "execution_count": null,
   "metadata": {
    "vscode": {
     "languageId": "plaintext"
    }
   },
   "outputs": [],
   "source": [
    "# The first 5 instances of the dataframe\n",
    "df.head()"
   ]
  },
  {
   "cell_type": "code",
   "execution_count": null,
   "metadata": {
    "vscode": {
     "languageId": "plaintext"
    }
   },
   "outputs": [],
   "source": [
    "# Printing the number of N/A values in eacg column\n",
    "print(df.isna().sum())\n",
    "# Graphical representation of the na values present in the attribute - bar graph\n",
    "df.isna().sum().plot.barh()"
   ]
  },
  {
   "cell_type": "code",
   "execution_count": null,
   "metadata": {
    "vscode": {
     "languageId": "plaintext"
    }
   },
   "outputs": [],
   "source": [
    "# To check the  statistical analysis of all numerical type attributes  (count, mean, standaard deviation, minimum values, all quartiles, maximum values)\n",
    "df.describe()"
   ]
  },
  {
   "cell_type": "code",
   "execution_count": null,
   "metadata": {
    "vscode": {
     "languageId": "plaintext"
    }
   },
   "outputs": [],
   "source": [
    "# Provides the data type of all attributes and the number of NOT NULL values count is obtained\n",
    "df.info()"
   ]
  },
  {
   "cell_type": "code",
   "execution_count": null,
   "metadata": {
    "vscode": {
     "languageId": "plaintext"
    }
   },
   "outputs": [],
   "source": [
    "# The 'id' column is dropped since the attribute holds no significant importance to the problem at hand\n",
    "df = df.drop(['id'],axis=1)\n"
   ]
  },
  {
   "cell_type": "code",
   "execution_count": null,
   "metadata": {
    "vscode": {
     "languageId": "plaintext"
    }
   },
   "outputs": [],
   "source": [
    "# Checking the values in the gender column\n",
    "df['gender'].value_counts()"
   ]
  },
  {
   "cell_type": "code",
   "execution_count": null,
   "metadata": {
    "vscode": {
     "languageId": "plaintext"
    }
   },
   "outputs": [],
   "source": [
    "# Removing the 'other' gender instance inorder to reduce the dimension\n",
    "df['gender'] = df['gender'].replace('Other','Female')\n",
    "# plotting a pie chart to see the gender count distribution\n",
    "df['gender'].value_counts().plot(kind=\"pie\")"
   ]
  },
  {
   "cell_type": "code",
   "execution_count": null,
   "metadata": {
    "vscode": {
     "languageId": "plaintext"
    }
   },
   "outputs": [],
   "source": [
    "# Value count in the stroke attribute\n",
    "df['stroke'].value_counts()\n"
   ]
  },
  {
   "cell_type": "code",
   "execution_count": null,
   "metadata": {
    "vscode": {
     "languageId": "plaintext"
    }
   },
   "outputs": [],
   "source": [
    "# Graphical representation of the value count distribution of the target attribute\n",
    "df['stroke'].value_counts().plot(kind=\"bar\",color = \"cyan\")"
   ]
  },
  {
   "cell_type": "code",
   "execution_count": null,
   "metadata": {
    "vscode": {
     "languageId": "plaintext"
    }
   },
   "outputs": [],
   "source": [
    "print(\"% of people who actualy got a stroke : \",(df['stroke'].value_counts()[1]/df['stroke'].value_counts().sum()).round(3)*100)"
   ]
  },
  {
   "cell_type": "code",
   "execution_count": null,
   "metadata": {
    "vscode": {
     "languageId": "plaintext"
    }
   },
   "outputs": [],
   "source": [
    "# Graphical representation of the value counts of the hypertension attribute\n",
    "df['hypertension'].value_counts().plot(kind=\"bar\",color = \"blue\")"
   ]
  },
  {
   "cell_type": "code",
   "execution_count": null,
   "metadata": {
    "vscode": {
     "languageId": "plaintext"
    }
   },
   "outputs": [],
   "source": [
    "# Value of count of work-type attribute\n",
    "df['work_type'].value_counts()"
   ]
  },
  {
   "cell_type": "code",
   "execution_count": null,
   "metadata": {
    "vscode": {
     "languageId": "plaintext"
    }
   },
   "outputs": [],
   "source": [
    "# Graphical representation of the value counts of the work-type attribute\n",
    "df['work_type'].value_counts().plot(kind=\"pie\")"
   ]
  },
  {
   "cell_type": "code",
   "execution_count": null,
   "metadata": {
    "vscode": {
     "languageId": "plaintext"
    }
   },
   "outputs": [],
   "source": [
    "# Value of count of somoking status attribute\n",
    "df['smoking_status'].value_counts()"
   ]
  },
  {
   "cell_type": "code",
   "execution_count": null,
   "metadata": {
    "vscode": {
     "languageId": "plaintext"
    }
   },
   "outputs": [],
   "source": [
    "# Graphical representation of the value counts of the smoking staus attribute\n",
    "df['smoking_status'].value_counts().plot(kind=\"pie\")"
   ]
  },
  {
   "cell_type": "code",
   "execution_count": null,
   "metadata": {
    "vscode": {
     "languageId": "plaintext"
    }
   },
   "outputs": [],
   "source": [
    "# Value of count of residence attribute\n",
    "df['Residence_type'].value_counts()"
   ]
  },
  {
   "cell_type": "code",
   "execution_count": null,
   "metadata": {
    "vscode": {
     "languageId": "plaintext"
    }
   },
   "outputs": [],
   "source": [
    "# Graphical representation of the value counts of the residence attribute\n",
    "df['Residence_type'].value_counts().plot(kind=\"pie\")"
   ]
  },
  {
   "cell_type": "code",
   "execution_count": null,
   "metadata": {
    "vscode": {
     "languageId": "plaintext"
    }
   },
   "outputs": [],
   "source": [
    "# Number of BMI - NULL values\n",
    "df['bmi'].isnull().sum()"
   ]
  },
  {
   "cell_type": "code",
   "execution_count": null,
   "metadata": {
    "vscode": {
     "languageId": "plaintext"
    }
   },
   "outputs": [],
   "source": [
    "# Graphical representation of bmi attribute\n",
    "sns.histplot(data=df['bmi'])"
   ]
  },
  {
   "cell_type": "code",
   "execution_count": null,
   "metadata": {
    "vscode": {
     "languageId": "plaintext"
    }
   },
   "outputs": [],
   "source": [
    "# Finding the count of outliers based on those instances which are out of iqr \n",
    "Q1 = df['bmi'].quantile(0.25)\n",
    "Q3 = df['bmi'].quantile(0.75)\n",
    "# Finding IQR\n",
    "IQR = Q3 - Q1\n",
    "da=(df['bmi'] < (Q1 - 1.5 * IQR)) | (df['bmi'] > (Q3 + 1.5 * IQR))\n",
    "da.value_counts()"
   ]
  },
  {
   "cell_type": "code",
   "execution_count": null,
   "metadata": {
    "vscode": {
     "languageId": "plaintext"
    }
   },
   "outputs": [],
   "source": [
    "# Percentage of NULL values in bmi\n",
    "df['bmi'].isna().sum()/len(df['bmi'])*100"
   ]
  },
  {
   "cell_type": "code",
   "execution_count": null,
   "metadata": {
    "vscode": {
     "languageId": "plaintext"
    }
   },
   "outputs": [],
   "source": [
    "df_na=df.loc[df['bmi'].isnull()]\n",
    "g=df_na['stroke'].sum()\n",
    "print(\"People who got stroke and their BMI is NA:\",g)\n",
    "h=df['stroke'].sum()\n",
    "print(\"People who got stroke and their BMI is given:\",h)\n",
    "print(\"percentage of people with stroke in Nan values to the overall dataset:\",g/h*100)"
   ]
  },
  {
   "cell_type": "code",
   "execution_count": null,
   "metadata": {
    "vscode": {
     "languageId": "plaintext"
    }
   },
   "outputs": [],
   "source": [
    "# Percentage of instances who got stroke\n",
    "df['stroke'].sum()/len(df)*100"
   ]
  },
  {
   "cell_type": "code",
   "execution_count": null,
   "metadata": {
    "vscode": {
     "languageId": "plaintext"
    }
   },
   "outputs": [],
   "source": [
    "# Analysing whether to drop NA values in Bmi column\n",
    "df_na=df.loc[df['bmi'].isnull()]\n",
    "print(\"Nan BMI values where people have stroke:\",df_na['stroke'].sum())\n",
    "print(\"overall BMI values where people have stroke:\",df['stroke'].sum())\n"
   ]
  },
  {
   "cell_type": "code",
   "execution_count": null,
   "metadata": {
    "vscode": {
     "languageId": "plaintext"
    }
   },
   "outputs": [],
   "source": [
    "# Imputing the missing N/A values using the median of bmi column\n",
    "print(\"median of bmi\",df['bmi'].median())\n",
    "df['bmi']=df['bmi'].fillna(df['bmi'].median())"
   ]
  },
  {
   "cell_type": "code",
   "execution_count": null,
   "metadata": {
    "vscode": {
     "languageId": "plaintext"
    }
   },
   "outputs": [],
   "source": [
    "# Graphical representation fo the data in age column\n",
    "# histogram\n",
    "sns.histplot(data=df['age'])"
   ]
  },
  {
   "cell_type": "code",
   "execution_count": null,
   "metadata": {
    "vscode": {
     "languageId": "plaintext"
    }
   },
   "outputs": [],
   "source": [
    "# boxplot\n",
    "sns.boxplot(data=df['age'])"
   ]
  },
  {
   "cell_type": "code",
   "execution_count": null,
   "metadata": {
    "vscode": {
     "languageId": "plaintext"
    }
   },
   "outputs": [],
   "source": [
    "# Graphical representation fo the data in glucose level column\n",
    "# histogram\n",
    "sns.histplot(data=df['avg_glucose_level'])"
   ]
  },
  {
   "cell_type": "code",
   "execution_count": null,
   "metadata": {
    "vscode": {
     "languageId": "plaintext"
    }
   },
   "outputs": [],
   "source": [
    "# Boxplot\n",
    "sns.boxplot(data=df['avg_glucose_level'])"
   ]
  },
  {
   "cell_type": "code",
   "execution_count": null,
   "metadata": {
    "vscode": {
     "languageId": "plaintext"
    }
   },
   "outputs": [],
   "source": [
    "# Finding the count of outliers based on those instances which are out of iqr \n",
    "Q1 = df['avg_glucose_level'].quantile(0.25)\n",
    "Q3 = df['avg_glucose_level'].quantile(0.75)\n",
    "IQR = Q3 - Q1\n",
    "da=(df['avg_glucose_level'] < (Q1 - 1.5 * IQR)) | (df['avg_glucose_level'] > (Q3 + 1.5 * IQR))\n",
    "da.value_counts()"
   ]
  },
  {
   "cell_type": "code",
   "execution_count": null,
   "metadata": {
    "vscode": {
     "languageId": "plaintext"
    }
   },
   "outputs": [],
   "source": [
    "# Correlation matrix between the attributes in the dataset to find if any attributes are correlated\n",
    "corrmat=df.corr()\n",
    "f,ax=plt.subplots(figsize=(9,8))\n",
    "sns.heatmap(corrmat,ax=ax,cmap=\"YlGnBu\",linewidth=0.8,annot=True)"
   ]
  },
  {
   "cell_type": "code",
   "execution_count": null,
   "metadata": {
    "vscode": {
     "languageId": "plaintext"
    }
   },
   "outputs": [],
   "source": [
    "# Value count of heart disease attribute\n",
    "df['heart_disease'].value_counts()"
   ]
  },
  {
   "cell_type": "code",
   "execution_count": null,
   "metadata": {
    "vscode": {
     "languageId": "plaintext"
    }
   },
   "outputs": [],
   "source": [
    "df['heart_disease'].value_counts().plot(kind=\"pie\")"
   ]
  },
  {
   "cell_type": "code",
   "execution_count": null,
   "metadata": {
    "vscode": {
     "languageId": "plaintext"
    }
   },
   "outputs": [],
   "source": [
    "# Value count of evver married attribute\n",
    "df['ever_married'].value_counts()"
   ]
  },
  {
   "cell_type": "code",
   "execution_count": null,
   "metadata": {
    "vscode": {
     "languageId": "plaintext"
    }
   },
   "outputs": [],
   "source": [
    "# Graphical representation\n",
    "df['ever_married'].value_counts().plot(kind=\"pie\")"
   ]
  },
  {
   "cell_type": "code",
   "execution_count": null,
   "metadata": {
    "vscode": {
     "languageId": "plaintext"
    }
   },
   "outputs": [],
   "source": [
    "# Comparing stroke with gender\n",
    "sns.countplot(x='stroke', hue='gender', data=df)"
   ]
  },
  {
   "cell_type": "code",
   "execution_count": null,
   "metadata": {
    "vscode": {
     "languageId": "plaintext"
    }
   },
   "outputs": [],
   "source": [
    "# Comparing stroke with work-type\n",
    "sns.countplot(x='stroke', hue='work_type', data=df)"
   ]
  },
  {
   "cell_type": "code",
   "execution_count": null,
   "metadata": {
    "vscode": {
     "languageId": "plaintext"
    }
   },
   "outputs": [],
   "source": [
    "# Comparing stroke with somking_status\n",
    "sns.countplot(x='stroke', hue='smoking_status', data=df)"
   ]
  },
  {
   "cell_type": "code",
   "execution_count": null,
   "metadata": {
    "vscode": {
     "languageId": "plaintext"
    }
   },
   "outputs": [],
   "source": [
    "# Comparing stroke with residence type\n",
    "sns.countplot(x='stroke', hue='Residence_type', data=df)"
   ]
  },
  {
   "cell_type": "code",
   "execution_count": null,
   "metadata": {
    "vscode": {
     "languageId": "plaintext"
    }
   },
   "outputs": [],
   "source": [
    "# Comparing stroke with heart disease\n",
    "sns.countplot(x='stroke', hue='heart_disease', data=df)"
   ]
  },
  {
   "cell_type": "code",
   "execution_count": null,
   "metadata": {
    "vscode": {
     "languageId": "plaintext"
    }
   },
   "outputs": [],
   "source": [
    "# Comparing stroke with married status\n",
    "sns.countplot(x='stroke', hue='ever_married', data=df)"
   ]
  },
  {
   "cell_type": "code",
   "execution_count": null,
   "metadata": {
    "vscode": {
     "languageId": "plaintext"
    }
   },
   "outputs": [],
   "source": [
    "# Converting numeric-binary value attributes to string\n",
    "df[['hypertension', 'heart_disease', 'stroke']] = df[['hypertension', 'heart_disease', 'stroke']].astype(str)\n",
    "# Generating dummy attributes - one hot encoding format\n",
    "df = pd.get_dummies(df, drop_first= True)\n"
   ]
  },
  {
   "cell_type": "code",
   "execution_count": null,
   "metadata": {
    "vscode": {
     "languageId": "plaintext"
    }
   },
   "outputs": [],
   "source": [
    "# The data frame after performing dummy attributes\n",
    "df.head()"
   ]
  },
  {
   "cell_type": "code",
   "execution_count": null,
   "metadata": {
    "vscode": {
     "languageId": "plaintext"
    }
   },
   "outputs": [],
   "source": [
    "# Since our Dataset is highly undersampled (based on target instances) we are going to perform a over sampling method to have equal representation of both the target classes\n",
    "# Using random oversampling - importing the library \n",
    "from imblearn.over_sampling import RandomOverSampler\n",
    "\n",
    "# Performing a minority oversampling\n",
    "oversample = RandomOverSampler(sampling_strategy='minority')\n",
    "X=df.drop(['stroke_1'],axis=1)\n",
    "y=df['stroke_1']\n",
    "\n",
    "# Obtaining the oversampled dataframes - testing and training\n",
    "X_over, y_over = oversample.fit_resample(X, y)"
   ]
  },
  {
   "cell_type": "code",
   "execution_count": null,
   "metadata": {
    "vscode": {
     "languageId": "plaintext"
    }
   },
   "outputs": [],
   "source": [
    "# importing a scaling modeule\n",
    "from sklearn.preprocessing import StandardScaler\n",
    "\n",
    "# Since the numeric attributes in the dataset is in different ranges and three are outliers persent we are usign a scaler to get all the values into the same range.\n",
    "s = StandardScaler()\n",
    "# Scaling the numeric attributes\n",
    "df[['bmi', 'avg_glucose_level', 'age']] = s.fit_transform(df[['bmi', 'avg_glucose_level', 'age']])"
   ]
  },
  {
   "cell_type": "code",
   "execution_count": null,
   "metadata": {
    "vscode": {
     "languageId": "plaintext"
    }
   },
   "outputs": [],
   "source": [
    "# creating dataset split for training and testing the model\n",
    "from sklearn.model_selection import train_test_split\n",
    "# Performing a 80-20 test-train split\n",
    "X_train, X_test, y_train, y_test = train_test_split(X_over, y_over, test_size= 0.20, random_state= 42)"
   ]
  },
  {
   "cell_type": "code",
   "execution_count": null,
   "metadata": {
    "vscode": {
     "languageId": "plaintext"
    }
   },
   "outputs": [],
   "source": [
    "# Checking the size of the splits \n",
    "print('X_train:', X_train.shape)\n",
    "print('y_train:', y_train.shape)\n",
    "print('X_test:', X_test.shape)\n",
    "print('y_test:', y_test.shape)"
   ]
  },
  {
   "cell_type": "code",
   "execution_count": null,
   "metadata": {
    "vscode": {
     "languageId": "plaintext"
    }
   },
   "outputs": [],
   "source": [
    "#importing the Decision Tree Classifier module\n",
    "from sklearn.tree import DecisionTreeClassifier\n",
    "# Libraries for calculating performance metrics\n",
    "from sklearn import metrics \n",
    "from sklearn.metrics import auc,roc_auc_score,roc_curve,precision_score,recall_score,f1_score\n",
    "\n",
    "# Create the classifier object\n",
    "clf = DecisionTreeClassifier()\n",
    "\n",
    "# Training the classifier\n",
    "clf = clf.fit(X_train,y_train)\n",
    "\n",
    "#predicting result using the test dataset\n",
    "y_pred = clf.predict(X_test)\n",
    "\n",
    "# Printing the accuracyof the model\n",
    "print(\"Accuracy:\",metrics.accuracy_score(y_test, y_pred))\n"
   ]
  },
  {
   "cell_type": "code",
   "execution_count": null,
   "metadata": {
    "vscode": {
     "languageId": "plaintext"
    }
   },
   "outputs": [],
   "source": [
    "#importing the KNN Classifier module\n",
    "from sklearn.neighbors import KNeighborsClassifier\n",
    "# Libraries for calculating performance metrics\n",
    "from sklearn.metrics import classification_report,accuracy_score,confusion_matrix\n",
    "from sklearn.metrics import auc,roc_auc_score,roc_curve,precision_score,recall_score,f1_score\n",
    "\n",
    "# Create the classifier object\n",
    "# 2 neighbours because of the 2 classes\n",
    "knn = KNeighborsClassifier(n_neighbors = 2)\n",
    "# Training the classifier\n",
    "knn.fit(X_train,y_train)\n",
    "#predicting result using the test dataset\n",
    "y_pred_knn = knn.predict(X_test)\n",
    "y_pred_prob_knn = knn.predict_proba(X_test)[:, 1]\n",
    "\n",
    "# Printing the accuracy and roc-auc score of the model\n",
    "confusion_matrix(y_test, y_pred_knn)\n",
    "print('Accuracy:',accuracy_score(y_test, y_pred_knn))\n",
    "print('ROC AUC Score:', roc_auc_score(y_test, y_pred_prob_knn))"
   ]
  },
  {
   "cell_type": "code",
   "execution_count": null,
   "metadata": {
    "vscode": {
     "languageId": "plaintext"
    }
   },
   "outputs": [],
   "source": [
    "#importing the XGBoost Classifier module\n",
    "from xgboost  import XGBClassifier\n",
    "\n",
    "# Create the classifier object\n",
    "xgb = XGBClassifier()\n",
    "# Training the classifier\n",
    "xgb.fit(X_train,y_train)\n",
    "#predicting result using the test dataset\n",
    "y_pred_xgb = xgb.predict(X_test)\n",
    "y_pred_prob_xgb = xgb.predict_proba(X_test)[:, 1]\n",
    "\n",
    "# Printing the accuracy and roc-auc score of the model\n",
    "print('Accuracy:', accuracy_score(y_test, y_pred_xgb))\n",
    "print('ROC AUC Score:', roc_auc_score(y_test, y_pred_prob_xgb))\n",
    "\n",
    "# plots of roc_auc \n",
    "fpr, tpr, thresholds = roc_curve(y_test, y_pred_prob_xgb)\n",
    "\n",
    "plt.figure(figsize=(6,4))\n",
    "plt.plot(fpr, tpr, linewidth=2, color= 'teal')\n",
    "plt.plot([0,1], [0,1], 'r--' )\n",
    "plt.title('ROC Curve of XGBOOST')\n",
    "plt.xlabel('False Positive Rate')\n",
    "plt.ylabel('True Positive Rate')\n",
    "\n",
    "plt.show()"
   ]
  },
  {
   "cell_type": "code",
   "execution_count": null,
   "metadata": {
    "vscode": {
     "languageId": "plaintext"
    }
   },
   "outputs": [],
   "source": [
    "# Plotting the confusion matrix of the model\n",
    "from sklearn.metrics import plot_confusion_matrix,precision_recall_fscore_support\n",
    "plot_confusion_matrix(xgb,X_test,y_test)"
   ]
  },
  {
   "cell_type": "code",
   "execution_count": null,
   "metadata": {
    "vscode": {
     "languageId": "plaintext"
    }
   },
   "outputs": [],
   "source": [
    "# Printing the precision,recall,f1score and support values of the model based on the confusion matrix\n",
    "from sklearn.metrics import accuracy_score,precision_score,recall_score,f1_score\n",
    "print(\"Accuracy_score:\",accuracy_score(y_test,y_pred_xgb))\n",
    "print(\"Precision_score:\",precision_score(y_test,y_pred_xgb))\n",
    "print(\"Recall_score:\",recall_score(y_test,y_pred_xgb))\n",
    "print(\"f1_score:\",f1_score(y_test,y_pred_xgb))\n",
    "print('ROC AUC Score:', roc_auc_score(y_test, y_pred_prob_xgb))"
   ]
  },
  {
   "cell_type": "code",
   "execution_count": null,
   "metadata": {
    "vscode": {
     "languageId": "plaintext"
    }
   },
   "outputs": [],
   "source": [
    "\n",
    "# importing random forest classifier module for training\n",
    "from sklearn.ensemble import RandomForestClassifier\n",
    "from sklearn.model_selection import RandomizedSearchCV\n",
    "\n",
    "# Create the classifier object\n",
    "rf_clf = RandomForestClassifier(n_estimators = 100)\n",
    "\n",
    "# Train the model using the training sets\n",
    "rf_clf.fit(X_train, y_train)\n",
    "\n",
    "# performing predictions on the test dataset\n",
    "y_pred_rf = rf_clf.predict(X_test)\n",
    "\n",
    "# Printing accuracy of the model\n",
    "print('Accuracy:', accuracy_score(y_test, y_pred_rf))\n",
    "\n"
   ]
  },
  {
   "cell_type": "code",
   "execution_count": null,
   "metadata": {
    "vscode": {
     "languageId": "plaintext"
    }
   },
   "outputs": [],
   "source": [
    "# Importing module for kfold cross validation\n",
    "from sklearn import model_selection\n",
    "from sklearn.model_selection import KFold\n",
    "\n",
    "# Performing k fold cross validation using 20 splits\n",
    "kfold_kridge = model_selection.KFold(n_splits=20, shuffle=True)\n",
    "results_kfold = model_selection.cross_val_score(rf_clf, X_over, y_over, cv=kfold_kridge)\n",
    "print(\"Accuracy: \", results_kfold.mean()*100)\n",
    "print(results_kfold)"
   ]
  },
  {
   "cell_type": "code",
   "execution_count": null,
   "metadata": {
    "vscode": {
     "languageId": "plaintext"
    }
   },
   "outputs": [],
   "source": [
    "# Plotting the confusion matrix\n",
    "from sklearn.metrics import plot_confusion_matrix,precision_recall_fscore_support\n",
    "plot_confusion_matrix(rf_clf,X_test,y_test)"
   ]
  },
  {
   "cell_type": "code",
   "execution_count": null,
   "metadata": {
    "vscode": {
     "languageId": "plaintext"
    }
   },
   "outputs": [],
   "source": [
    "\n",
    "from sklearn.linear_model import LogisticRegression\n",
    "\n",
    "classifier = LogisticRegression(random_state = 0)\n",
    "classifier.fit(X_train, y_train)\n",
    "\n",
    "y_pred_lr = classifier.predict(X_test)\n",
    "\n",
    "confusion_matrix(y_test, y_pred_lr)\n",
    "print('Accuracy:', accuracy_score(y_test, y_pred_lr))"
   ]
  },
  {
   "cell_type": "code",
   "execution_count": null,
   "metadata": {
    "vscode": {
     "languageId": "plaintext"
    }
   },
   "outputs": [],
   "source": [
    "# Making sample predictions based on manual value entry\n",
    "age=75\n",
    "avg_glucose_level=300\n",
    "bmi=36.6\n",
    "gender_Male=1\n",
    "ever_married_Yes=1\t\n",
    "work_type_Never_worked=0\t\n",
    "work_type_Private=1\t\n",
    "work_type_Self_employed=0\n",
    "work_type_children=0\t\n",
    "Residence_type_Urban=1\n",
    "smoking_status_formerly_smoked=1\n",
    "smoking_status_never_smoked=0\n",
    "smoking_status_smokes=0\n",
    "hypertension_1=1\n",
    "heart_disease_1=1\n",
    "input_features = [age\t,avg_glucose_level,\tbmi\t,gender_Male,hypertension_1,\theart_disease_1,ever_married_Yes,\twork_type_Never_worked,\twork_type_Private,\twork_type_Self_employed,\twork_type_children\t,Residence_type_Urban,\tsmoking_status_formerly_smoked,smoking_status_never_smoked\t,smoking_status_smokes]\n",
    "\n",
    "features_value = [np.array(input_features)]\n",
    "features_name = ['age'\t,'avg_glucose_level',\t'bmi'\t,'gender_Male'\t,'hypertension_1',\t'heart_disease_1','ever_married_Yes',\t'work_type_Never_worked',\t'work_type_Private',\t'work_type_Self-employed',\t'work_type_children'\t,'Residence_type_Urban',\t'smoking_status_formerly smoked','smoking_status_never smoked'\t,'smoking_status_smokes']\n",
    "\n",
    "df = pd.DataFrame(features_value, columns=features_name)\n",
    "prediction = rf_clf.predict(df)[0]\n",
    "print(prediction)\n"
   ]
  },
  {
   "cell_type": "code",
   "execution_count": null,
   "metadata": {
    "vscode": {
     "languageId": "plaintext"
    }
   },
   "outputs": [],
   "source": [
    "# For the front end \n",
    "import pickle\n",
    "\n",
    "with open('model.pickle','wb') as f:\n",
    "  pickle.dump(rf_clf,f)"
   ]
  }
 ],
 "metadata": {
  "language_info": {
   "name": "python"
  }
 },
 "nbformat": 4,
 "nbformat_minor": 2
}
